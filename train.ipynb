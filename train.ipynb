{
 "cells": [
  {
   "cell_type": "code",
   "execution_count": null,
   "metadata": {},
   "outputs": [],
   "source": [
    "from features_extractor import Extractor\n",
    "from preprocess import PreProcessor\n",
    "import pandas as pd\n",
    "import matplotlib.pyplot as plt\n",
    "from tqdm import tqdm\n"
   ]
  },
  {
   "cell_type": "markdown",
   "metadata": {},
   "source": [
    "# Read data"
   ]
  },
  {
   "cell_type": "code",
   "execution_count": null,
   "metadata": {},
   "outputs": [
    {
     "name": "stdout",
     "output_type": "stream",
     "text": [
      "['ABC' 'ACC' 'ABT' ... 'PBT' 'TVH' 'GLC']\n",
      "Dữ liệu bao gồm:  1083  mã chứng khoán\n",
      "290208  dòng dữ liệu\n"
     ]
    },
    {
     "data": {
      "text/html": [
       "<div>\n",
       "<style scoped>\n",
       "    .dataframe tbody tr th:only-of-type {\n",
       "        vertical-align: middle;\n",
       "    }\n",
       "\n",
       "    .dataframe tbody tr th {\n",
       "        vertical-align: top;\n",
       "    }\n",
       "\n",
       "    .dataframe thead th {\n",
       "        text-align: right;\n",
       "    }\n",
       "</style>\n",
       "<table border=\"1\" class=\"dataframe\">\n",
       "  <thead>\n",
       "    <tr style=\"text-align: right;\">\n",
       "      <th></th>\n",
       "      <th>TICKER</th>\n",
       "      <th>TXDATE</th>\n",
       "      <th>open</th>\n",
       "      <th>high</th>\n",
       "      <th>close</th>\n",
       "      <th>low</th>\n",
       "      <th>volume</th>\n",
       "    </tr>\n",
       "  </thead>\n",
       "  <tbody>\n",
       "    <tr>\n",
       "      <th>0</th>\n",
       "      <td>ABC</td>\n",
       "      <td>2020-02-28</td>\n",
       "      <td>8.5132</td>\n",
       "      <td>8.5132</td>\n",
       "      <td>9.34200</td>\n",
       "      <td>8.3321</td>\n",
       "      <td>5700</td>\n",
       "    </tr>\n",
       "    <tr>\n",
       "      <th>1</th>\n",
       "      <td>ACC</td>\n",
       "      <td>2020-02-28</td>\n",
       "      <td>12.9782</td>\n",
       "      <td>12.9782</td>\n",
       "      <td>19.50000</td>\n",
       "      <td>12.9782</td>\n",
       "      <td>20</td>\n",
       "    </tr>\n",
       "    <tr>\n",
       "      <th>2</th>\n",
       "      <td>ABT</td>\n",
       "      <td>2020-02-28</td>\n",
       "      <td>30.1352</td>\n",
       "      <td>30.1352</td>\n",
       "      <td>31.05920</td>\n",
       "      <td>30.0882</td>\n",
       "      <td>260</td>\n",
       "    </tr>\n",
       "    <tr>\n",
       "      <th>3</th>\n",
       "      <td>ACB</td>\n",
       "      <td>2020-02-28</td>\n",
       "      <td>17.6992</td>\n",
       "      <td>19.4691</td>\n",
       "      <td>19.38384</td>\n",
       "      <td>17.6992</td>\n",
       "      <td>5959642</td>\n",
       "    </tr>\n",
       "    <tr>\n",
       "      <th>4</th>\n",
       "      <td>ACL</td>\n",
       "      <td>2020-02-28</td>\n",
       "      <td>9.0000</td>\n",
       "      <td>9.0454</td>\n",
       "      <td>9.04455</td>\n",
       "      <td>8.6364</td>\n",
       "      <td>16050</td>\n",
       "    </tr>\n",
       "  </tbody>\n",
       "</table>\n",
       "</div>"
      ],
      "text/plain": [
       "  TICKER      TXDATE     open     high     close      low   volume\n",
       "0    ABC  2020-02-28   8.5132   8.5132   9.34200   8.3321     5700\n",
       "1    ACC  2020-02-28  12.9782  12.9782  19.50000  12.9782       20\n",
       "2    ABT  2020-02-28  30.1352  30.1352  31.05920  30.0882      260\n",
       "3    ACB  2020-02-28  17.6992  19.4691  19.38384  17.6992  5959642\n",
       "4    ACL  2020-02-28   9.0000   9.0454   9.04455   8.6364    16050"
      ]
     },
     "execution_count": 2,
     "metadata": {},
     "output_type": "execute_result"
    }
   ],
   "source": [
    "#Read data\n",
    "data_csv = pd.read_csv('./dataset/all_2years.csv')\n",
    "data_df = pd.DataFrame(data_csv)\n",
    "data_df.drop(columns=['MARKETCAP', 'VN30_PRICE', 'VN30_VOL', 'VN30_VAL','Unnamed: 0'], inplace= True) #remove unused features\n",
    "\n",
    "tickers = data_df['TICKER'].unique() #collect name of tickers\n",
    "print(tickers)\n",
    "print('Dữ liệu bao gồm: ',len(tickers), ' mã chứng khoán')\n",
    "print(data_df['TICKER'].size,' dòng dữ liệu')\n",
    "\n",
    "data_df.head()"
   ]
  },
  {
   "cell_type": "code",
   "execution_count": null,
   "metadata": {},
   "outputs": [
    {
     "data": {
      "text/plain": [
       "TICKER     object\n",
       "TXDATE     object\n",
       "open      float64\n",
       "high      float64\n",
       "close     float64\n",
       "low       float64\n",
       "volume      int64\n",
       "dtype: object"
      ]
     },
     "execution_count": 19,
     "metadata": {},
     "output_type": "execute_result"
    }
   ],
   "source": [
    "data_df.dtypes"
   ]
  },
  {
   "cell_type": "markdown",
   "metadata": {},
   "source": [
    "# EDA"
   ]
  },
  {
   "cell_type": "code",
   "execution_count": null,
   "metadata": {},
   "outputs": [
    {
     "name": "stdout",
     "output_type": "stream",
     "text": [
      "{1: 52, 12: 1, 28: 1, 32: 1, 35: 1, 38: 1, 39: 1, 41: 1, 45: 1, 52: 1, 54: 1, 63: 1, 69: 1, 77: 1, 78: 1, 96: 1, 105: 1, 133: 1, 147: 1, 156: 1, 160: 1, 161: 1, 165: 1, 169: 1, 176: 1, 182: 1, 185: 1, 190: 1, 201: 1, 219: 1, 240: 1, 241: 1, 253: 1, 257: 1, 261: 1, 270: 2, 271: 1, 277: 1, 278: 1, 279: 5, 280: 4, 281: 3, 282: 2, 283: 3, 285: 23, 286: 120, 287: 832}\n"
     ]
    },
    {
     "data": {
      "image/png": "[encoded data removed]",
      "text/plain": [
       "<Figure size 1440x1280 with 1 Axes>"
      ]
     },
     "metadata": {
      "needs_background": "light"
     },
     "output_type": "display_data"
    }
   ],
   "source": [
    "#plot number of trading days\n",
    "numtrading_dic = dict(data_df['TICKER'].value_counts().groupby(by=data_df['TICKER'].value_counts()).count())\n",
    "print(numtrading_dic)\n",
    "names = list(numtrading_dic.keys())\n",
    "values = list(numtrading_dic.values())\n",
    "\n",
    "plt.figure(figsize=(18, 16), dpi=80)\n",
    "plt.bar(range(len(numtrading_dic)), values, tick_label=names)\n",
    "plt.show()"
   ]
  },
  {
   "cell_type": "code",
   "execution_count": null,
   "metadata": {},
   "outputs": [
    {
     "name": "stdout",
     "output_type": "stream",
     "text": [
      "998\n"
     ]
    }
   ],
   "source": [
    "#Because just a few tickers have a number of trading days lower than 260 days so we drop them out\n",
    "tickers = [k for (k,v) in dict(data_df['TICKER'].value_counts()).items() if v > 260]\n",
    "print(len(tickers))"
   ]
  },
  {
   "cell_type": "code",
   "execution_count": null,
   "metadata": {},
   "outputs": [
    {
     "data": {
      "text/html": [
       "<div>\n",
       "<style scoped>\n",
       "    .dataframe tbody tr th:only-of-type {\n",
       "        vertical-align: middle;\n",
       "    }\n",
       "\n",
       "    .dataframe tbody tr th {\n",
       "        vertical-align: top;\n",
       "    }\n",
       "\n",
       "    .dataframe thead th {\n",
       "        text-align: right;\n",
       "    }\n",
       "</style>\n",
       "<table border=\"1\" class=\"dataframe\">\n",
       "  <thead>\n",
       "    <tr style=\"text-align: right;\">\n",
       "      <th></th>\n",
       "      <th>TICKER</th>\n",
       "      <th>TXDATE</th>\n",
       "      <th>open</th>\n",
       "      <th>high</th>\n",
       "      <th>close</th>\n",
       "      <th>low</th>\n",
       "      <th>volume</th>\n",
       "    </tr>\n",
       "  </thead>\n",
       "  <tbody>\n",
       "    <tr>\n",
       "      <th>200</th>\n",
       "      <td>FLC</td>\n",
       "      <td>2020-02-28</td>\n",
       "      <td>3.82</td>\n",
       "      <td>3.83</td>\n",
       "      <td>3.76</td>\n",
       "      <td>3.74</td>\n",
       "      <td>7780890</td>\n",
       "    </tr>\n",
       "    <tr>\n",
       "      <th>1236</th>\n",
       "      <td>FLC</td>\n",
       "      <td>2020-02-27</td>\n",
       "      <td>3.75</td>\n",
       "      <td>3.85</td>\n",
       "      <td>3.85</td>\n",
       "      <td>3.75</td>\n",
       "      <td>3799380</td>\n",
       "    </tr>\n",
       "    <tr>\n",
       "      <th>2387</th>\n",
       "      <td>FLC</td>\n",
       "      <td>2020-02-26</td>\n",
       "      <td>3.75</td>\n",
       "      <td>3.82</td>\n",
       "      <td>3.76</td>\n",
       "      <td>3.74</td>\n",
       "      <td>3789960</td>\n",
       "    </tr>\n",
       "    <tr>\n",
       "      <th>3294</th>\n",
       "      <td>FLC</td>\n",
       "      <td>2020-02-25</td>\n",
       "      <td>3.55</td>\n",
       "      <td>3.83</td>\n",
       "      <td>3.83</td>\n",
       "      <td>3.55</td>\n",
       "      <td>7204230</td>\n",
       "    </tr>\n",
       "    <tr>\n",
       "      <th>5033</th>\n",
       "      <td>FLC</td>\n",
       "      <td>2020-02-24</td>\n",
       "      <td>3.91</td>\n",
       "      <td>3.93</td>\n",
       "      <td>3.73</td>\n",
       "      <td>3.73</td>\n",
       "      <td>19077270</td>\n",
       "    </tr>\n",
       "    <tr>\n",
       "      <th>...</th>\n",
       "      <td>...</td>\n",
       "      <td>...</td>\n",
       "      <td>...</td>\n",
       "      <td>...</td>\n",
       "      <td>...</td>\n",
       "      <td>...</td>\n",
       "      <td>...</td>\n",
       "    </tr>\n",
       "    <tr>\n",
       "      <th>285508</th>\n",
       "      <td>FLC</td>\n",
       "      <td>2019-01-08</td>\n",
       "      <td>5.13</td>\n",
       "      <td>5.35</td>\n",
       "      <td>5.34</td>\n",
       "      <td>5.09</td>\n",
       "      <td>6679160</td>\n",
       "    </tr>\n",
       "    <tr>\n",
       "      <th>286498</th>\n",
       "      <td>FLC</td>\n",
       "      <td>2019-01-07</td>\n",
       "      <td>5.13</td>\n",
       "      <td>5.19</td>\n",
       "      <td>5.13</td>\n",
       "      <td>5.13</td>\n",
       "      <td>2496730</td>\n",
       "    </tr>\n",
       "    <tr>\n",
       "      <th>287482</th>\n",
       "      <td>FLC</td>\n",
       "      <td>2019-01-04</td>\n",
       "      <td>4.95</td>\n",
       "      <td>5.08</td>\n",
       "      <td>5.05</td>\n",
       "      <td>4.93</td>\n",
       "      <td>3400350</td>\n",
       "    </tr>\n",
       "    <tr>\n",
       "      <th>288481</th>\n",
       "      <td>FLC</td>\n",
       "      <td>2019-01-03</td>\n",
       "      <td>5.11</td>\n",
       "      <td>5.14</td>\n",
       "      <td>5.05</td>\n",
       "      <td>4.90</td>\n",
       "      <td>6074050</td>\n",
       "    </tr>\n",
       "    <tr>\n",
       "      <th>289469</th>\n",
       "      <td>FLC</td>\n",
       "      <td>2019-01-02</td>\n",
       "      <td>5.14</td>\n",
       "      <td>5.19</td>\n",
       "      <td>5.11</td>\n",
       "      <td>5.10</td>\n",
       "      <td>2788640</td>\n",
       "    </tr>\n",
       "  </tbody>\n",
       "</table>\n",
       "<p>287 rows × 7 columns</p>\n",
       "</div>"
      ],
      "text/plain": [
       "       TICKER      TXDATE  open  high  close   low    volume\n",
       "200       FLC  2020-02-28  3.82  3.83   3.76  3.74   7780890\n",
       "1236      FLC  2020-02-27  3.75  3.85   3.85  3.75   3799380\n",
       "2387      FLC  2020-02-26  3.75  3.82   3.76  3.74   3789960\n",
       "3294      FLC  2020-02-25  3.55  3.83   3.83  3.55   7204230\n",
       "5033      FLC  2020-02-24  3.91  3.93   3.73  3.73  19077270\n",
       "...       ...         ...   ...   ...    ...   ...       ...\n",
       "285508    FLC  2019-01-08  5.13  5.35   5.34  5.09   6679160\n",
       "286498    FLC  2019-01-07  5.13  5.19   5.13  5.13   2496730\n",
       "287482    FLC  2019-01-04  4.95  5.08   5.05  4.93   3400350\n",
       "288481    FLC  2019-01-03  5.11  5.14   5.05  4.90   6074050\n",
       "289469    FLC  2019-01-02  5.14  5.19   5.11  5.10   2788640\n",
       "\n",
       "[287 rows x 7 columns]"
      ]
     },
     "execution_count": 5,
     "metadata": {},
     "output_type": "execute_result"
    }
   ],
   "source": [
    "FLC_infor = data_df.loc[data_df['TICKER']=='FLC']\n",
    "FLC_infor"
   ]
  },
  {
   "cell_type": "code",
   "execution_count": null,
   "metadata": {},
   "outputs": [
    {
     "name": "stderr",
     "output_type": "stream",
     "text": [
      "C:\\Users\\ThinkPro\\AppData\\Local\\Temp\\ipykernel_11396\\4208498755.py:1: SettingWithCopyWarning: \n",
      "A value is trying to be set on a copy of a slice from a DataFrame.\n",
      "Try using .loc[row_indexer,col_indexer] = value instead\n",
      "\n",
      "See the caveats in the documentation: https://pandas.pydata.org/pandas-docs/stable/user_guide/indexing.html#returning-a-view-versus-a-copy\n",
      "  FLC_infor[\"TXDATE\"]=pd.to_datetime(FLC_infor.TXDATE,format=\"%Y-%m-%d\")\n"
     ]
    },
    {
     "data": {
      "text/plain": [
       "[<matplotlib.lines.Line2D at 0x1b3503a94c0>]"
      ]
     },
     "execution_count": 6,
     "metadata": {},
     "output_type": "execute_result"
    },
    {
     "data": {
      "image/png": "[encoded data removed]",
      "text/plain": [
       "<Figure size 1152x576 with 1 Axes>"
      ]
     },
     "metadata": {
      "needs_background": "light"
     },
     "output_type": "display_data"
    }
   ],
   "source": [
    "FLC_infor[\"TXDATE\"]=pd.to_datetime(FLC_infor.TXDATE,format=\"%Y-%m-%d\")\n",
    "FLC_infor.index=FLC_infor['TXDATE']\n",
    "\n",
    "plt.figure(figsize=(16,8))\n",
    "plt.plot(FLC_infor[\"close\"],label='Close Price history')"
   ]
  },
  {
   "cell_type": "markdown",
   "metadata": {},
   "source": [
    "# Extract and preprocess data"
   ]
  },
  {
   "cell_type": "code",
   "execution_count": null,
   "metadata": {},
   "outputs": [
    {
     "name": "stderr",
     "output_type": "stream",
     "text": [
      "PreProcessing Data: 100%|██████████| 998/998 [01:15<00:00, 13.22it/s]"
     ]
    },
    {
     "name": "stdout",
     "output_type": "stream",
     "text": [
      "Done Preprocessing\n"
     ]
    },
    {
     "name": "stderr",
     "output_type": "stream",
     "text": [
      "\n"
     ]
    }
   ],
   "source": [
    "preprocessor = PreProcessor()\n",
    "max_len = 150\n",
    "max_closes = {}\n",
    "min_closes = {}\n",
    "success = 0\n",
    "data_all_tickers = []\n",
    "\n",
    "for p_ticker in tqdm(tickers, desc= \"PreProcessing Data: \", total= len(tickers)):      \n",
    "\t#extractor\n",
    "\tticker_infor = data_df.loc[data_df['TICKER']==p_ticker]\n",
    "\textractor = Extractor(ticker_infor, p_ticker, max_len)\n",
    "\tticker_infor = extractor.process()\n",
    "\t# print(ticker_infor)\n",
    "\n",
    "\t# preprocess\n",
    "\tticker_infor, max_close, min_close = preprocessor.preprocess(ticker_infor)\n",
    "\n",
    "\tticker_infor['name'] = [p_ticker for i in range(len(ticker_infor.index))]\n",
    "\t\n",
    "\tif success == 0:\n",
    "\t\tdata_all_tickers = pd.DataFrame(ticker_infor)\n",
    "\telse:\n",
    "\t\tdata_all_tickers = pd.concat([data_all_tickers, ticker_infor], axis = 0)\n",
    "\tmax_closes[p_ticker] = max_close\n",
    "\tmin_closes[p_ticker] = min_close\n",
    "\n",
    "\tsuccess = success+1\n",
    "\n",
    "print('Done Preprocessing')"
   ]
  },
  {
   "cell_type": "markdown",
   "metadata": {},
   "source": [
    "# Split train, test data"
   ]
  },
  {
   "cell_type": "code",
   "execution_count": null,
   "metadata": {},
   "outputs": [
    {
     "name": "stderr",
     "output_type": "stream",
     "text": [
      "100%|██████████| 800/800 [00:09<00:00, 85.99it/s]\n"
     ]
    }
   ],
   "source": [
    "#Split\n",
    "import numpy as np\n",
    "tickers_final = data_all_tickers['name'].unique()\n",
    "train_data = tickers_final[:800]\n",
    "valid_data = tickers_final[800:]\n",
    "x_train_data,y_train_data=[],[]\n",
    "# print(data_all_tickers.columns)\n",
    "for ticker in tqdm(train_data) :\n",
    "    ticker_infor = data_all_tickers.loc[data_all_tickers['name']==p_ticker]\n",
    "    # for i in range(60, 150):\n",
    "    #     x = ticker_infor.iloc[i-60:i].drop(columns=['TXDATE','name']).to_numpy()\n",
    "    #     x_train_data.append(x)\n",
    "\n",
    "    #     y = ticker_infor.iloc[i]['close']\n",
    "    #     y_train_data.append(y)\n",
    "    x = ticker_infor.iloc[:-1].drop(columns=['TXDATE','name']).to_numpy()\n",
    "    x_train_data.append(x)\n",
    "\n",
    "    y = ticker_infor.iloc[-1]['close']\n",
    "    y_train_data.append(y)\n",
    "\n",
    "x_train_data,y_train_data=np.array(x_train_data),np.array(y_train_data)\n",
    "    "
   ]
  },
  {
   "cell_type": "code",
   "execution_count": null,
   "metadata": {},
   "outputs": [
    {
     "name": "stdout",
     "output_type": "stream",
     "text": [
      "(800, 149, 24)\n",
      "(800,)\n"
     ]
    }
   ],
   "source": [
    "print(x_train_data.shape)\n",
    "print(y_train_data.shape)"
   ]
  },
  {
   "cell_type": "markdown",
   "metadata": {},
   "source": [
    "# Build model"
   ]
  },
  {
   "cell_type": "code",
   "execution_count": null,
   "metadata": {},
   "outputs": [],
   "source": [
    "from keras.models import Sequential\n",
    "from keras.layers import LSTM,Dropout,Dense\n",
    "#Build Model\n",
    "lstm_model=Sequential()\n",
    "lstm_model.add(LSTM(units=50,return_sequences=True,input_shape=(x_train_data.shape[1],24)))\n",
    "lstm_model.add(LSTM(units=50))\n",
    "lstm_model.add(Dense(1))\n"
   ]
  },
  {
   "cell_type": "code",
   "execution_count": 68,
   "metadata": {},
   "outputs": [
    {
     "name": "stdout",
     "output_type": "stream",
     "text": [
      "800/800 - 38s - loss: 0.0000e+00 - 38s/epoch - 47ms/step\n"
     ]
    }
   ],
   "source": [
    "#train\n",
    "epochs = 1\n",
    "lstm_model.compile(loss='mean_squared_error',optimizer='adam')\n",
    "for i in range(epochs):\n",
    "    lstm_model.fit(x_train_data,y_train_data,epochs=1,batch_size=1,verbose=2)"
   ]
  },
  {
   "cell_type": "code",
   "execution_count": 70,
   "metadata": {},
   "outputs": [
    {
     "name": "stderr",
     "output_type": "stream",
     "text": [
      "  0%|          | 0/198 [00:00<?, ?it/s]\n"
     ]
    },
    {
     "ename": "ValueError",
     "evalue": "in user code:\n\n    File \"c:\\Users\\ThinkPro\\OneDrive\\Máy tính\\Hamy\\stockenv\\lib\\site-packages\\keras\\engine\\training.py\", line 1845, in predict_function  *\n        return step_function(self, iterator)\n    File \"c:\\Users\\ThinkPro\\OneDrive\\Máy tính\\Hamy\\stockenv\\lib\\site-packages\\keras\\engine\\training.py\", line 1834, in step_function  **\n        outputs = model.distribute_strategy.run(run_step, args=(data,))\n    File \"c:\\Users\\ThinkPro\\OneDrive\\Máy tính\\Hamy\\stockenv\\lib\\site-packages\\keras\\engine\\training.py\", line 1823, in run_step  **\n        outputs = model.predict_step(data)\n    File \"c:\\Users\\ThinkPro\\OneDrive\\Máy tính\\Hamy\\stockenv\\lib\\site-packages\\keras\\engine\\training.py\", line 1791, in predict_step\n        return self(x, training=False)\n    File \"c:\\Users\\ThinkPro\\OneDrive\\Máy tính\\Hamy\\stockenv\\lib\\site-packages\\keras\\utils\\traceback_utils.py\", line 67, in error_handler\n        raise e.with_traceback(filtered_tb) from None\n    File \"c:\\Users\\ThinkPro\\OneDrive\\Máy tính\\Hamy\\stockenv\\lib\\site-packages\\keras\\engine\\input_spec.py\", line 264, in assert_input_compatibility\n        raise ValueError(f'Input {input_index} of layer \"{layer_name}\" is '\n\n    ValueError: Input 0 of layer \"sequential_2\" is incompatible with the layer: expected shape=(None, 149, 24), found shape=(None, 24)\n",
     "output_type": "error",
     "traceback": [
      "\u001b[1;31m---------------------------------------------------------------------------\u001b[0m",
      "\u001b[1;31mValueError\u001b[0m                                Traceback (most recent call last)",
      "\u001b[1;32mc:\\Users\\ThinkPro\\OneDrive\\Máy tính\\Hamy\\train.ipynb Cell 18'\u001b[0m in \u001b[0;36m<cell line: 19>\u001b[1;34m()\u001b[0m\n\u001b[0;32m     <a href='vscode-notebook-cell:/c%3A/Users/ThinkPro/OneDrive/M%C3%A1y%20t%C3%ADnh/Hamy/train.ipynb#ch0000006?line=16'>17</a>\u001b[0m     y_test_data\u001b[39m.\u001b[39mappend(y)\n\u001b[0;32m     <a href='vscode-notebook-cell:/c%3A/Users/ThinkPro/OneDrive/M%C3%A1y%20t%C3%ADnh/Hamy/train.ipynb#ch0000006?line=17'>18</a>\u001b[0m     \u001b[39mbreak\u001b[39;00m\n\u001b[1;32m---> <a href='vscode-notebook-cell:/c%3A/Users/ThinkPro/OneDrive/M%C3%A1y%20t%C3%ADnh/Hamy/train.ipynb#ch0000006?line=18'>19</a>\u001b[0m predicted_closing_price\u001b[39m=\u001b[39mlstm_model\u001b[39m.\u001b[39;49mpredict(x_test_data)\n",
      "File \u001b[1;32mc:\\Users\\ThinkPro\\OneDrive\\Máy tính\\Hamy\\stockenv\\lib\\site-packages\\keras\\utils\\traceback_utils.py:67\u001b[0m, in \u001b[0;36mfilter_traceback.<locals>.error_handler\u001b[1;34m(*args, **kwargs)\u001b[0m\n\u001b[0;32m     65\u001b[0m \u001b[39mexcept\u001b[39;00m \u001b[39mException\u001b[39;00m \u001b[39mas\u001b[39;00m e:  \u001b[39m# pylint: disable=broad-except\u001b[39;00m\n\u001b[0;32m     66\u001b[0m   filtered_tb \u001b[39m=\u001b[39m _process_traceback_frames(e\u001b[39m.\u001b[39m__traceback__)\n\u001b[1;32m---> 67\u001b[0m   \u001b[39mraise\u001b[39;00m e\u001b[39m.\u001b[39mwith_traceback(filtered_tb) \u001b[39mfrom\u001b[39;00m \u001b[39mNone\u001b[39m\n\u001b[0;32m     68\u001b[0m \u001b[39mfinally\u001b[39;00m:\n\u001b[0;32m     69\u001b[0m   \u001b[39mdel\u001b[39;00m filtered_tb\n",
      "File \u001b[1;32m~\\AppData\\Local\\Temp\\__autograph_generated_file3wcmz3u3.py:15\u001b[0m, in \u001b[0;36mouter_factory.<locals>.inner_factory.<locals>.tf__predict_function\u001b[1;34m(iterator)\u001b[0m\n\u001b[0;32m     13\u001b[0m \u001b[39mtry\u001b[39;00m:\n\u001b[0;32m     14\u001b[0m     do_return \u001b[39m=\u001b[39m \u001b[39mTrue\u001b[39;00m\n\u001b[1;32m---> 15\u001b[0m     retval_ \u001b[39m=\u001b[39m ag__\u001b[39m.\u001b[39mconverted_call(ag__\u001b[39m.\u001b[39mld(step_function), (ag__\u001b[39m.\u001b[39mld(\u001b[39mself\u001b[39m), ag__\u001b[39m.\u001b[39mld(iterator)), \u001b[39mNone\u001b[39;00m, fscope)\n\u001b[0;32m     16\u001b[0m \u001b[39mexcept\u001b[39;00m:\n\u001b[0;32m     17\u001b[0m     do_return \u001b[39m=\u001b[39m \u001b[39mFalse\u001b[39;00m\n",
      "\u001b[1;31mValueError\u001b[0m: in user code:\n\n    File \"c:\\Users\\ThinkPro\\OneDrive\\Máy tính\\Hamy\\stockenv\\lib\\site-packages\\keras\\engine\\training.py\", line 1845, in predict_function  *\n        return step_function(self, iterator)\n    File \"c:\\Users\\ThinkPro\\OneDrive\\Máy tính\\Hamy\\stockenv\\lib\\site-packages\\keras\\engine\\training.py\", line 1834, in step_function  **\n        outputs = model.distribute_strategy.run(run_step, args=(data,))\n    File \"c:\\Users\\ThinkPro\\OneDrive\\Máy tính\\Hamy\\stockenv\\lib\\site-packages\\keras\\engine\\training.py\", line 1823, in run_step  **\n        outputs = model.predict_step(data)\n    File \"c:\\Users\\ThinkPro\\OneDrive\\Máy tính\\Hamy\\stockenv\\lib\\site-packages\\keras\\engine\\training.py\", line 1791, in predict_step\n        return self(x, training=False)\n    File \"c:\\Users\\ThinkPro\\OneDrive\\Máy tính\\Hamy\\stockenv\\lib\\site-packages\\keras\\utils\\traceback_utils.py\", line 67, in error_handler\n        raise e.with_traceback(filtered_tb) from None\n    File \"c:\\Users\\ThinkPro\\OneDrive\\Máy tính\\Hamy\\stockenv\\lib\\site-packages\\keras\\engine\\input_spec.py\", line 264, in assert_input_compatibility\n        raise ValueError(f'Input {input_index} of layer \"{layer_name}\" is '\n\n    ValueError: Input 0 of layer \"sequential_2\" is incompatible with the layer: expected shape=(None, 149, 24), found shape=(None, 24)\n"
     ]
    }
   ],
   "source": [
    "#test\n",
    "x_test_data = []\n",
    "y_test_data = []\n",
    "\n",
    "for ticker in tqdm(valid_data) :\n",
    "    ticker_infor = data_all_tickers.loc[data_all_tickers['name']==p_ticker]\n",
    "    # for i in range(60, 150):\n",
    "    #     x = ticker_infor.iloc[i-60:i].drop(columns=['TXDATE','name']).to_numpy()\n",
    "    #     x_train_data.append(x)\n",
    "\n",
    "    #     y = ticker_infor.iloc[i]['close']\n",
    "    #     y_train_data.append(y)\n",
    "    x_test_data = ticker_infor.iloc[:-1].drop(columns=['TXDATE','name']).to_numpy()\n",
    "    # x_test_data.append(x)\n",
    "\n",
    "    y_test_data = ticker_infor.iloc[-1]['close']\n",
    "    # y_test_data.append(y)\n",
    "    break\n",
    "predicted_closing_price=lstm_model.predict(x_test_data)"
   ]
  },
  {
   "cell_type": "code",
   "execution_count": null,
   "metadata": {},
   "outputs": [],
   "source": [
    "lstm_model.save(\"saved_model.h5\")"
   ]
  },
  {
   "cell_type": "code",
   "execution_count": 11,
   "metadata": {},
   "outputs": [],
   "source": [
    "#evaluate\n",
    "import sklearn\n",
    "MSE = sklearn.metrics.mean_squared_error(y_test_data, predicted_closing_price)\n",
    "print(MSE)"
   ]
  }
 ],
 "metadata": {
  "kernelspec": {
   "display_name": "Python 3.8.8 ('stockenv': venv)",
   "language": "python",
   "name": "python3"
  },
  "language_info": {
   "codemirror_mode": {
    "name": "ipython",
    "version": 3
   },
   "file_extension": ".py",
   "mimetype": "text/x-python",
   "name": "python",
   "nbconvert_exporter": "python",
   "pygments_lexer": "ipython3",
   "version": "3.8.8"
  },
  "orig_nbformat": 4,
  "vscode": {
   "interpreter": {
    "hash": "005f0d1a1e9386a54fe76a704d25d13cf2ec6f19324d443d0eac5231e5b4a2bc"
   }
  }
 },
 "nbformat": 4,
 "nbformat_minor": 2
}
